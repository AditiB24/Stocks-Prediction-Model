{
  "cells": [
    {
      "cell_type": "code",
      "execution_count": null,
      "metadata": {
        "id": "qKUy_eKkRfaK",
        "outputId": "bbbb2df2-13c5-438f-f079-0cc4eafbef00"
      },
      "outputs": [
        {
          "name": "stderr",
          "output_type": "stream",
          "text": [
            "[nltk_data] Downloading package stopwords to\n",
            "[nltk_data]     C:\\Users\\Saee\\AppData\\Roaming\\nltk_data...\n",
            "[nltk_data]   Package stopwords is already up-to-date!\n"
          ]
        }
      ],
      "source": [
        "import numpy as np\n",
        "import pandas as pd\n",
        "import nltk\n",
        "import re\n",
        "from nltk.stem import PorterStemmer, WordNetLemmatizer\n",
        "from nltk.tokenize import word_tokenize\n",
        "import matplotlib.pyplot as plt\n",
        "import seaborn as sns\n",
        "%matplotlib inline\n",
        "\n",
        "#import stopwords and text processing libraries\n",
        "nltk.download('stopwords')\n",
        "from nltk.corpus import stopwords\n",
        "stopwords = stopwords.words('english')"
      ]
    },
    {
      "cell_type": "code",
      "execution_count": null,
      "metadata": {
        "id": "xc9xBkTARfaQ"
      },
      "outputs": [],
      "source": [
        "import sklearn"
      ]
    },
    {
      "cell_type": "code",
      "execution_count": null,
      "metadata": {
        "id": "YzOBWYGeRfaS"
      },
      "outputs": [],
      "source": [
        "raw_data = pd.read_csv('all_merged_data.csv')"
      ]
    },
    {
      "cell_type": "code",
      "execution_count": null,
      "metadata": {
        "id": "Rj4tOJxWRfaS",
        "outputId": "abde9306-f29c-4a26-ce58-e368299e63a2"
      },
      "outputs": [
        {
          "data": {
            "text/plain": [
              "Index(['Link', 'Date', 'Title', 'Description'], dtype='object')"
            ]
          },
          "execution_count": 5,
          "metadata": {},
          "output_type": "execute_result"
        }
      ],
      "source": [
        "raw_data.columns"
      ]
    },
    {
      "cell_type": "code",
      "execution_count": null,
      "metadata": {
        "id": "3BN41v2ZRfaT",
        "outputId": "5daa3cda-0b5b-48e0-c11a-51952a596a29"
      },
      "outputs": [
        {
          "data": {
            "text/plain": [
              "Link           0\n",
              "Date           0\n",
              "Title          0\n",
              "Description    0\n",
              "dtype: int64"
            ]
          },
          "execution_count": 6,
          "metadata": {},
          "output_type": "execute_result"
        }
      ],
      "source": [
        "raw_data.isnull().sum()"
      ]
    },
    {
      "cell_type": "code",
      "execution_count": null,
      "metadata": {
        "id": "UtXV9k9PRfaU"
      },
      "outputs": [],
      "source": [
        "raw_data.reset_index(inplace=True, drop=True)"
      ]
    },
    {
      "cell_type": "code",
      "execution_count": null,
      "metadata": {
        "id": "rmb-rJ8qRfaW",
        "outputId": "86293056-a146-401c-c0cc-17036a1524b1"
      },
      "outputs": [
        {
          "data": {
            "text/html": [
              "<div>\n",
              "<style scoped>\n",
              "    .dataframe tbody tr th:only-of-type {\n",
              "        vertical-align: middle;\n",
              "    }\n",
              "\n",
              "    .dataframe tbody tr th {\n",
              "        vertical-align: top;\n",
              "    }\n",
              "\n",
              "    .dataframe thead th {\n",
              "        text-align: right;\n",
              "    }\n",
              "</style>\n",
              "<table border=\"1\" class=\"dataframe\">\n",
              "  <thead>\n",
              "    <tr style=\"text-align: right;\">\n",
              "      <th></th>\n",
              "      <th>Link</th>\n",
              "      <th>Date</th>\n",
              "      <th>Title</th>\n",
              "      <th>Description</th>\n",
              "    </tr>\n",
              "  </thead>\n",
              "  <tbody>\n",
              "    <tr>\n",
              "      <th>0</th>\n",
              "      <td>https://www.moneycontrol.com/news/business/mar...</td>\n",
              "      <td>April 03, 2024 05:13 PM IST</td>\n",
              "      <td>Technical View: Nifty consolidates again, deci...</td>\n",
              "      <td>The volatility cooled down further, consistent...</td>\n",
              "    </tr>\n",
              "    <tr>\n",
              "      <th>1</th>\n",
              "      <td>https://www.moneycontrol.com/news/business/mar...</td>\n",
              "      <td>April 03, 2024 03:45 PM IST</td>\n",
              "      <td>Taking Stock: Market inches closer to record h...</td>\n",
              "      <td>Broader indices outperformed with BSE midcap i...</td>\n",
              "    </tr>\n",
              "    <tr>\n",
              "      <th>2</th>\n",
              "      <td>https://www.moneycontrol.com/news/business/lar...</td>\n",
              "      <td>April 03, 2024 03:22 PM IST</td>\n",
              "      <td>Large caps gear up to drive market; capital go...</td>\n",
              "      <td>Technical indicators show that select large ca...</td>\n",
              "    </tr>\n",
              "    <tr>\n",
              "      <th>3</th>\n",
              "      <td>https://www.moneycontrol.com/news/business/mar...</td>\n",
              "      <td>April 03, 2024 03:10 PM IST</td>\n",
              "      <td>Sensex slips for second straight day; analysts...</td>\n",
              "      <td>Analysts at ICICI Securities see the stage set...</td>\n",
              "    </tr>\n",
              "    <tr>\n",
              "      <th>4</th>\n",
              "      <td>https://www.moneycontrol.com/news/business/mar...</td>\n",
              "      <td>April 03, 2024 01:10 PM IST</td>\n",
              "      <td>Bank Nifty recovers from early losses, to expi...</td>\n",
              "      <td>Bank Nifty is expected to remain sideways to b...</td>\n",
              "    </tr>\n",
              "  </tbody>\n",
              "</table>\n",
              "</div>"
            ],
            "text/plain": [
              "                                                Link  \\\n",
              "0  https://www.moneycontrol.com/news/business/mar...   \n",
              "1  https://www.moneycontrol.com/news/business/mar...   \n",
              "2  https://www.moneycontrol.com/news/business/lar...   \n",
              "3  https://www.moneycontrol.com/news/business/mar...   \n",
              "4  https://www.moneycontrol.com/news/business/mar...   \n",
              "\n",
              "                          Date  \\\n",
              "0  April 03, 2024 05:13 PM IST   \n",
              "1  April 03, 2024 03:45 PM IST   \n",
              "2  April 03, 2024 03:22 PM IST   \n",
              "3  April 03, 2024 03:10 PM IST   \n",
              "4  April 03, 2024 01:10 PM IST   \n",
              "\n",
              "                                               Title  \\\n",
              "0  Technical View: Nifty consolidates again, deci...   \n",
              "1  Taking Stock: Market inches closer to record h...   \n",
              "2  Large caps gear up to drive market; capital go...   \n",
              "3  Sensex slips for second straight day; analysts...   \n",
              "4  Bank Nifty recovers from early losses, to expi...   \n",
              "\n",
              "                                         Description  \n",
              "0  The volatility cooled down further, consistent...  \n",
              "1  Broader indices outperformed with BSE midcap i...  \n",
              "2  Technical indicators show that select large ca...  \n",
              "3  Analysts at ICICI Securities see the stage set...  \n",
              "4  Bank Nifty is expected to remain sideways to b...  "
            ]
          },
          "execution_count": 8,
          "metadata": {},
          "output_type": "execute_result"
        }
      ],
      "source": [
        "raw_data.head()"
      ]
    },
    {
      "cell_type": "code",
      "execution_count": null,
      "metadata": {
        "id": "rZLRlCFIRfaX",
        "outputId": "fd33f4d6-7458-49ff-bd36-e4a947635b63"
      },
      "outputs": [
        {
          "data": {
            "text/plain": [
              "72"
            ]
          },
          "execution_count": 9,
          "metadata": {},
          "output_type": "execute_result"
        }
      ],
      "source": [
        "# checking whether duplicate records are present\n",
        "\n",
        "dup_list = list(raw_data.duplicated(keep='first').values)\n",
        "dup_list.count(True)"
      ]
    },
    {
      "cell_type": "code",
      "execution_count": null,
      "metadata": {
        "id": "gTiW_YfNRfaY"
      },
      "outputs": [],
      "source": [
        "# creating a function for preprocessing\n",
        "\n",
        "def preprocessing_text(data):\n",
        "\n",
        "    #convert all to lowercase\n",
        "    data = data.lower()\n",
        "\n",
        "\n",
        "    #removing puntuations\n",
        "    data = re.sub(r'[^\\w\\s]','', data, flags=re.MULTILINE)\n",
        "\n",
        "\n",
        "    #remove stopwords\n",
        "    tokens = word_tokenize(data)\n",
        "    word_tokens = [w for w in tokens if w not in stopwords]\n",
        "\n",
        "\n",
        "    #stemming\n",
        "    stemmer = PorterStemmer()\n",
        "    stem_words = [stemmer.stem(w) for w in word_tokens]\n",
        "\n",
        "\n",
        "    #lemmitizing\n",
        "    lemmer = WordNetLemmatizer()\n",
        "    lem_words = [lemmer.lemmatize(w) for w in stem_words]\n",
        "\n",
        "    return \" \".join(lem_words)"
      ]
    },
    {
      "cell_type": "code",
      "execution_count": null,
      "metadata": {
        "id": "TMA1nOZvRfaZ",
        "outputId": "fa32ecc0-3f07-46f6-fe3e-9c29d2fb7511"
      },
      "outputs": [
        {
          "name": "stderr",
          "output_type": "stream",
          "text": [
            "[nltk_data] Downloading package vader_lexicon to\n",
            "[nltk_data]     C:\\Users\\Saee\\AppData\\Roaming\\nltk_data...\n",
            "[nltk_data]   Package vader_lexicon is already up-to-date!\n"
          ]
        }
      ],
      "source": [
        "# import sentiment intensity analyzer\n",
        "\n",
        "nltk.download('vader_lexicon')\n",
        "from nltk.sentiment.vader import SentimentIntensityAnalyzer\n",
        "\n",
        "\n",
        "# create sentiment intensity analyzer object\n",
        "SIA = SentimentIntensityAnalyzer()"
      ]
    },
    {
      "cell_type": "code",
      "execution_count": null,
      "metadata": {
        "id": "ZF-wWheDRfaZ"
      },
      "outputs": [],
      "source": [
        "# fuction to  decide sentiment as positive, negative and neutral\n",
        "\n",
        "def mapper(data):\n",
        "    if data > 0:\n",
        "        return \"Positive\"\n",
        "    elif data < 0:\n",
        "        return \"Negative\"\n",
        "    else:\n",
        "        return \"Neutral\"\n",
        "\n",
        "def sentiment_analysis(df, colm_name):\n",
        "\n",
        "    # assigning polarity scores for description column\n",
        "    df['polarity_scores'] = df[colm_name].apply(lambda w: SIA.polarity_scores(w))\n",
        "\n",
        "    # picking only compound score(combined score)\n",
        "    df['compound_score'] = df['polarity_scores'].apply(lambda x: x['compound'])\n",
        "     # mapping the compound score to positive, negative or neutral\n",
        "    df['ds_score'] = df['compound_score'].apply(mapper)\n",
        "\n",
        "    df.drop(['polarity_scores', 'compound_score'], axis=1, inplace=True)\n",
        "\n",
        "    return df"
      ]
    },
    {
      "cell_type": "code",
      "execution_count": null,
      "metadata": {
        "id": "d4Ve8MUWRfaa",
        "outputId": "ff3c7924-2b76-42dc-a74f-f76990a8038f"
      },
      "outputs": [
        {
          "name": "stderr",
          "output_type": "stream",
          "text": [
            "[nltk_data] Downloading package punkt to\n",
            "[nltk_data]     C:\\Users\\Saee\\AppData\\Roaming\\nltk_data...\n",
            "[nltk_data]   Package punkt is already up-to-date!\n",
            "[nltk_data] Downloading package wordnet to\n",
            "[nltk_data]     C:\\Users\\Saee\\AppData\\Roaming\\nltk_data...\n",
            "[nltk_data]   Package wordnet is already up-to-date!\n"
          ]
        },
        {
          "data": {
            "text/html": [
              "<div>\n",
              "<style scoped>\n",
              "    .dataframe tbody tr th:only-of-type {\n",
              "        vertical-align: middle;\n",
              "    }\n",
              "\n",
              "    .dataframe tbody tr th {\n",
              "        vertical-align: top;\n",
              "    }\n",
              "\n",
              "    .dataframe thead th {\n",
              "        text-align: right;\n",
              "    }\n",
              "</style>\n",
              "<table border=\"1\" class=\"dataframe\">\n",
              "  <thead>\n",
              "    <tr style=\"text-align: right;\">\n",
              "      <th></th>\n",
              "      <th>Link</th>\n",
              "      <th>Date</th>\n",
              "      <th>Title</th>\n",
              "      <th>Description</th>\n",
              "    </tr>\n",
              "  </thead>\n",
              "  <tbody>\n",
              "    <tr>\n",
              "      <th>0</th>\n",
              "      <td>https://www.moneycontrol.com/news/business/mar...</td>\n",
              "      <td>April 03, 2024 05:13 PM IST</td>\n",
              "      <td>Technical View: Nifty consolidates again, deci...</td>\n",
              "      <td>volatil cool consist give comfort support bull...</td>\n",
              "    </tr>\n",
              "    <tr>\n",
              "      <th>1</th>\n",
              "      <td>https://www.moneycontrol.com/news/business/mar...</td>\n",
              "      <td>April 03, 2024 03:45 PM IST</td>\n",
              "      <td>Taking Stock: Market inches closer to record h...</td>\n",
              "      <td>broader indic outperform bse midcap index 06 p...</td>\n",
              "    </tr>\n",
              "    <tr>\n",
              "      <th>2</th>\n",
              "      <td>https://www.moneycontrol.com/news/business/lar...</td>\n",
              "      <td>April 03, 2024 03:22 PM IST</td>\n",
              "      <td>Large caps gear up to drive market; capital go...</td>\n",
              "      <td>technic indic show select larg cap stock get w...</td>\n",
              "    </tr>\n",
              "    <tr>\n",
              "      <th>3</th>\n",
              "      <td>https://www.moneycontrol.com/news/business/mar...</td>\n",
              "      <td>April 03, 2024 03:10 PM IST</td>\n",
              "      <td>Sensex slips for second straight day; analysts...</td>\n",
              "      <td>analyst icici secur see stage set nifti propel...</td>\n",
              "    </tr>\n",
              "    <tr>\n",
              "      <th>4</th>\n",
              "      <td>https://www.moneycontrol.com/news/business/mar...</td>\n",
              "      <td>April 03, 2024 01:10 PM IST</td>\n",
              "      <td>Bank Nifty recovers from early losses, to expi...</td>\n",
              "      <td>bank nifti expect remain sideway bullish susta...</td>\n",
              "    </tr>\n",
              "    <tr>\n",
              "      <th>...</th>\n",
              "      <td>...</td>\n",
              "      <td>...</td>\n",
              "      <td>...</td>\n",
              "      <td>...</td>\n",
              "    </tr>\n",
              "    <tr>\n",
              "      <th>787</th>\n",
              "      <td>https://www.moneycontrol.com/news/business/mar...</td>\n",
              "      <td>February 01, 2024 04:07 PM IST</td>\n",
              "      <td>Budget Verdict | Fiscal deficit at 5.1% aggres...</td>\n",
              "      <td>sharma said wasnt surpris interim budget annou...</td>\n",
              "    </tr>\n",
              "    <tr>\n",
              "      <th>788</th>\n",
              "      <td>https://www.moneycontrol.com/news/business/mar...</td>\n",
              "      <td>February 01, 2024 03:44 PM IST</td>\n",
              "      <td>No cheer for market on Budget day; Sensex, Nif...</td>\n",
              "      <td>top nifti gainer maruti suzuki cipla eicher mo...</td>\n",
              "    </tr>\n",
              "    <tr>\n",
              "      <th>789</th>\n",
              "      <td>https://www.moneycontrol.com/news/business/bud...</td>\n",
              "      <td>February 01, 2024 03:23 PM IST</td>\n",
              "      <td>Nothing new in Interim Budget; see deep value ...</td>\n",
              "      <td>tradit theme continu power psu bank larg infra...</td>\n",
              "    </tr>\n",
              "    <tr>\n",
              "      <th>790</th>\n",
              "      <td>https://www.moneycontrol.com/news/business/mar...</td>\n",
              "      <td>February 01, 2024 03:07 PM IST</td>\n",
              "      <td>Nifty, Sensex end mildly in red; Budget over, ...</td>\n",
              "      <td>nifti metal led loss fall around 1 percent nif...</td>\n",
              "    </tr>\n",
              "    <tr>\n",
              "      <th>791</th>\n",
              "      <td>https://www.moneycontrol.com/news/business/mar...</td>\n",
              "      <td>February 01, 2024 02:28 PM IST</td>\n",
              "      <td>Major Nifty gainers and losers on Budget day</td>\n",
              "      <td>tata motor hdfc bank lt major gainer loser nif...</td>\n",
              "    </tr>\n",
              "  </tbody>\n",
              "</table>\n",
              "<p>792 rows × 4 columns</p>\n",
              "</div>"
            ],
            "text/plain": [
              "                                                  Link  \\\n",
              "0    https://www.moneycontrol.com/news/business/mar...   \n",
              "1    https://www.moneycontrol.com/news/business/mar...   \n",
              "2    https://www.moneycontrol.com/news/business/lar...   \n",
              "3    https://www.moneycontrol.com/news/business/mar...   \n",
              "4    https://www.moneycontrol.com/news/business/mar...   \n",
              "..                                                 ...   \n",
              "787  https://www.moneycontrol.com/news/business/mar...   \n",
              "788  https://www.moneycontrol.com/news/business/mar...   \n",
              "789  https://www.moneycontrol.com/news/business/bud...   \n",
              "790  https://www.moneycontrol.com/news/business/mar...   \n",
              "791  https://www.moneycontrol.com/news/business/mar...   \n",
              "\n",
              "                               Date  \\\n",
              "0       April 03, 2024 05:13 PM IST   \n",
              "1       April 03, 2024 03:45 PM IST   \n",
              "2       April 03, 2024 03:22 PM IST   \n",
              "3       April 03, 2024 03:10 PM IST   \n",
              "4       April 03, 2024 01:10 PM IST   \n",
              "..                              ...   \n",
              "787  February 01, 2024 04:07 PM IST   \n",
              "788  February 01, 2024 03:44 PM IST   \n",
              "789  February 01, 2024 03:23 PM IST   \n",
              "790  February 01, 2024 03:07 PM IST   \n",
              "791  February 01, 2024 02:28 PM IST   \n",
              "\n",
              "                                                 Title  \\\n",
              "0    Technical View: Nifty consolidates again, deci...   \n",
              "1    Taking Stock: Market inches closer to record h...   \n",
              "2    Large caps gear up to drive market; capital go...   \n",
              "3    Sensex slips for second straight day; analysts...   \n",
              "4    Bank Nifty recovers from early losses, to expi...   \n",
              "..                                                 ...   \n",
              "787  Budget Verdict | Fiscal deficit at 5.1% aggres...   \n",
              "788  No cheer for market on Budget day; Sensex, Nif...   \n",
              "789  Nothing new in Interim Budget; see deep value ...   \n",
              "790  Nifty, Sensex end mildly in red; Budget over, ...   \n",
              "791       Major Nifty gainers and losers on Budget day   \n",
              "\n",
              "                                           Description  \n",
              "0    volatil cool consist give comfort support bull...  \n",
              "1    broader indic outperform bse midcap index 06 p...  \n",
              "2    technic indic show select larg cap stock get w...  \n",
              "3    analyst icici secur see stage set nifti propel...  \n",
              "4    bank nifti expect remain sideway bullish susta...  \n",
              "..                                                 ...  \n",
              "787  sharma said wasnt surpris interim budget annou...  \n",
              "788  top nifti gainer maruti suzuki cipla eicher mo...  \n",
              "789  tradit theme continu power psu bank larg infra...  \n",
              "790  nifti metal led loss fall around 1 percent nif...  \n",
              "791  tata motor hdfc bank lt major gainer loser nif...  \n",
              "\n",
              "[792 rows x 4 columns]"
            ]
          },
          "execution_count": 13,
          "metadata": {},
          "output_type": "execute_result"
        }
      ],
      "source": [
        "# apply preprocessing to the description of new dataset\n",
        "import nltk\n",
        "nltk.download('punkt')\n",
        "nltk.download('wordnet')\n",
        "\n",
        "raw_data['Description'] = raw_data['Description'].apply(preprocessing_text)\n",
        "raw_data"
      ]
    },
    {
      "cell_type": "code",
      "execution_count": null,
      "metadata": {
        "id": "UQej7vNSRfaa",
        "outputId": "bd7062c9-f024-48f3-ff78-6dde6b08ee6b"
      },
      "outputs": [
        {
          "data": {
            "text/html": [
              "<div>\n",
              "<style scoped>\n",
              "    .dataframe tbody tr th:only-of-type {\n",
              "        vertical-align: middle;\n",
              "    }\n",
              "\n",
              "    .dataframe tbody tr th {\n",
              "        vertical-align: top;\n",
              "    }\n",
              "\n",
              "    .dataframe thead th {\n",
              "        text-align: right;\n",
              "    }\n",
              "</style>\n",
              "<table border=\"1\" class=\"dataframe\">\n",
              "  <thead>\n",
              "    <tr style=\"text-align: right;\">\n",
              "      <th></th>\n",
              "      <th>Link</th>\n",
              "      <th>Date</th>\n",
              "      <th>Title</th>\n",
              "      <th>Description</th>\n",
              "      <th>ds_score</th>\n",
              "    </tr>\n",
              "  </thead>\n",
              "  <tbody>\n",
              "    <tr>\n",
              "      <th>0</th>\n",
              "      <td>https://www.moneycontrol.com/news/business/mar...</td>\n",
              "      <td>April 03, 2024 05:13 PM IST</td>\n",
              "      <td>Technical View: Nifty consolidates again, deci...</td>\n",
              "      <td>volatil cool consist give comfort support bull...</td>\n",
              "      <td>Positive</td>\n",
              "    </tr>\n",
              "    <tr>\n",
              "      <th>1</th>\n",
              "      <td>https://www.moneycontrol.com/news/business/mar...</td>\n",
              "      <td>April 03, 2024 03:45 PM IST</td>\n",
              "      <td>Taking Stock: Market inches closer to record h...</td>\n",
              "      <td>broader indic outperform bse midcap index 06 p...</td>\n",
              "      <td>Positive</td>\n",
              "    </tr>\n",
              "    <tr>\n",
              "      <th>2</th>\n",
              "      <td>https://www.moneycontrol.com/news/business/lar...</td>\n",
              "      <td>April 03, 2024 03:22 PM IST</td>\n",
              "      <td>Large caps gear up to drive market; capital go...</td>\n",
              "      <td>technic indic show select larg cap stock get w...</td>\n",
              "      <td>Positive</td>\n",
              "    </tr>\n",
              "    <tr>\n",
              "      <th>3</th>\n",
              "      <td>https://www.moneycontrol.com/news/business/mar...</td>\n",
              "      <td>April 03, 2024 03:10 PM IST</td>\n",
              "      <td>Sensex slips for second straight day; analysts...</td>\n",
              "      <td>analyst icici secur see stage set nifti propel...</td>\n",
              "      <td>Neutral</td>\n",
              "    </tr>\n",
              "    <tr>\n",
              "      <th>4</th>\n",
              "      <td>https://www.moneycontrol.com/news/business/mar...</td>\n",
              "      <td>April 03, 2024 01:10 PM IST</td>\n",
              "      <td>Bank Nifty recovers from early losses, to expi...</td>\n",
              "      <td>bank nifti expect remain sideway bullish susta...</td>\n",
              "      <td>Neutral</td>\n",
              "    </tr>\n",
              "    <tr>\n",
              "      <th>...</th>\n",
              "      <td>...</td>\n",
              "      <td>...</td>\n",
              "      <td>...</td>\n",
              "      <td>...</td>\n",
              "      <td>...</td>\n",
              "    </tr>\n",
              "    <tr>\n",
              "      <th>787</th>\n",
              "      <td>https://www.moneycontrol.com/news/business/mar...</td>\n",
              "      <td>February 01, 2024 04:07 PM IST</td>\n",
              "      <td>Budget Verdict | Fiscal deficit at 5.1% aggres...</td>\n",
              "      <td>sharma said wasnt surpris interim budget annou...</td>\n",
              "      <td>Neutral</td>\n",
              "    </tr>\n",
              "    <tr>\n",
              "      <th>788</th>\n",
              "      <td>https://www.moneycontrol.com/news/business/mar...</td>\n",
              "      <td>February 01, 2024 03:44 PM IST</td>\n",
              "      <td>No cheer for market on Budget day; Sensex, Nif...</td>\n",
              "      <td>top nifti gainer maruti suzuki cipla eicher mo...</td>\n",
              "      <td>Negative</td>\n",
              "    </tr>\n",
              "    <tr>\n",
              "      <th>789</th>\n",
              "      <td>https://www.moneycontrol.com/news/business/bud...</td>\n",
              "      <td>February 01, 2024 03:23 PM IST</td>\n",
              "      <td>Nothing new in Interim Budget; see deep value ...</td>\n",
              "      <td>tradit theme continu power psu bank larg infra...</td>\n",
              "      <td>Negative</td>\n",
              "    </tr>\n",
              "    <tr>\n",
              "      <th>790</th>\n",
              "      <td>https://www.moneycontrol.com/news/business/mar...</td>\n",
              "      <td>February 01, 2024 03:07 PM IST</td>\n",
              "      <td>Nifty, Sensex end mildly in red; Budget over, ...</td>\n",
              "      <td>nifti metal led loss fall around 1 percent nif...</td>\n",
              "      <td>Negative</td>\n",
              "    </tr>\n",
              "    <tr>\n",
              "      <th>791</th>\n",
              "      <td>https://www.moneycontrol.com/news/business/mar...</td>\n",
              "      <td>February 01, 2024 02:28 PM IST</td>\n",
              "      <td>Major Nifty gainers and losers on Budget day</td>\n",
              "      <td>tata motor hdfc bank lt major gainer loser nif...</td>\n",
              "      <td>Negative</td>\n",
              "    </tr>\n",
              "  </tbody>\n",
              "</table>\n",
              "<p>792 rows × 5 columns</p>\n",
              "</div>"
            ],
            "text/plain": [
              "                                                  Link  \\\n",
              "0    https://www.moneycontrol.com/news/business/mar...   \n",
              "1    https://www.moneycontrol.com/news/business/mar...   \n",
              "2    https://www.moneycontrol.com/news/business/lar...   \n",
              "3    https://www.moneycontrol.com/news/business/mar...   \n",
              "4    https://www.moneycontrol.com/news/business/mar...   \n",
              "..                                                 ...   \n",
              "787  https://www.moneycontrol.com/news/business/mar...   \n",
              "788  https://www.moneycontrol.com/news/business/mar...   \n",
              "789  https://www.moneycontrol.com/news/business/bud...   \n",
              "790  https://www.moneycontrol.com/news/business/mar...   \n",
              "791  https://www.moneycontrol.com/news/business/mar...   \n",
              "\n",
              "                               Date  \\\n",
              "0       April 03, 2024 05:13 PM IST   \n",
              "1       April 03, 2024 03:45 PM IST   \n",
              "2       April 03, 2024 03:22 PM IST   \n",
              "3       April 03, 2024 03:10 PM IST   \n",
              "4       April 03, 2024 01:10 PM IST   \n",
              "..                              ...   \n",
              "787  February 01, 2024 04:07 PM IST   \n",
              "788  February 01, 2024 03:44 PM IST   \n",
              "789  February 01, 2024 03:23 PM IST   \n",
              "790  February 01, 2024 03:07 PM IST   \n",
              "791  February 01, 2024 02:28 PM IST   \n",
              "\n",
              "                                                 Title  \\\n",
              "0    Technical View: Nifty consolidates again, deci...   \n",
              "1    Taking Stock: Market inches closer to record h...   \n",
              "2    Large caps gear up to drive market; capital go...   \n",
              "3    Sensex slips for second straight day; analysts...   \n",
              "4    Bank Nifty recovers from early losses, to expi...   \n",
              "..                                                 ...   \n",
              "787  Budget Verdict | Fiscal deficit at 5.1% aggres...   \n",
              "788  No cheer for market on Budget day; Sensex, Nif...   \n",
              "789  Nothing new in Interim Budget; see deep value ...   \n",
              "790  Nifty, Sensex end mildly in red; Budget over, ...   \n",
              "791       Major Nifty gainers and losers on Budget day   \n",
              "\n",
              "                                           Description  ds_score  \n",
              "0    volatil cool consist give comfort support bull...  Positive  \n",
              "1    broader indic outperform bse midcap index 06 p...  Positive  \n",
              "2    technic indic show select larg cap stock get w...  Positive  \n",
              "3    analyst icici secur see stage set nifti propel...   Neutral  \n",
              "4    bank nifti expect remain sideway bullish susta...   Neutral  \n",
              "..                                                 ...       ...  \n",
              "787  sharma said wasnt surpris interim budget annou...   Neutral  \n",
              "788  top nifti gainer maruti suzuki cipla eicher mo...  Negative  \n",
              "789  tradit theme continu power psu bank larg infra...  Negative  \n",
              "790  nifti metal led loss fall around 1 percent nif...  Negative  \n",
              "791  tata motor hdfc bank lt major gainer loser nif...  Negative  \n",
              "\n",
              "[792 rows x 5 columns]"
            ]
          },
          "execution_count": 14,
          "metadata": {},
          "output_type": "execute_result"
        }
      ],
      "source": [
        "# apply the function  which decides sentiment to  polarity score column\n",
        "\n",
        "df = sentiment_analysis(raw_data, 'Description')\n",
        "df"
      ]
    },
    {
      "cell_type": "code",
      "execution_count": null,
      "metadata": {
        "id": "_4XkG2c9Rfab",
        "outputId": "27f6a32d-8be7-45de-de81-3278cad5409c"
      },
      "outputs": [
        {
          "data": {
            "image/png": "[encoded data removed]",
            "text/plain": [
              "<Figure size 640x480 with 1 Axes>"
            ]
          },
          "metadata": {},
          "output_type": "display_data"
        }
      ],
      "source": [
        "# plot a count plot on description score column\n",
        "sns.countplot(x='ds_score', data=df);"
      ]
    },
    {
      "cell_type": "code",
      "execution_count": null,
      "metadata": {
        "id": "sjbZOO23Rfac",
        "outputId": "dc26d742-9fd6-4bb5-a090-16d4a27a26f5"
      },
      "outputs": [
        {
          "name": "stdout",
          "output_type": "stream",
          "text": [
            "(712,) (80,) (712,) (80,)\n"
          ]
        }
      ],
      "source": [
        "#MOdelling DAta\n",
        "# split the dataset  into test and train\n",
        "\n",
        "from sklearn.model_selection import train_test_split\n",
        "\n",
        "X = df['Description']\n",
        "y = df.ds_score\n",
        "\n",
        "X_train, X_test, y_train, y_test = train_test_split(X, y, test_size=0.1, random_state=212)\n",
        "print(X_train.shape, X_test.shape, y_train.shape, y_test.shape)"
      ]
    },
    {
      "cell_type": "code",
      "execution_count": null,
      "metadata": {
        "id": "FPOZihRrRfac",
        "outputId": "a71245d3-7c76-4a81-9e8b-73a5ae6f22f4"
      },
      "outputs": [
        {
          "name": "stdout",
          "output_type": "stream",
          "text": [
            "MODEL: LINEAR SVC\n",
            "accuarcy score:  0.8375\n",
            "Confusion matrix:  [[ 4  0  2]\n",
            " [ 1 20  8]\n",
            " [ 0  2 43]]\n",
            "              precision    recall  f1-score   support\n",
            "\n",
            "    Negative       0.80      0.67      0.73         6\n",
            "     Neutral       0.91      0.69      0.78        29\n",
            "    Positive       0.81      0.96      0.88        45\n",
            "\n",
            "    accuracy                           0.84        80\n",
            "   macro avg       0.84      0.77      0.80        80\n",
            "weighted avg       0.85      0.84      0.83        80\n",
            "\n"
          ]
        },
        {
          "name": "stderr",
          "output_type": "stream",
          "text": [
            "c:\\Users\\Saee\\AppData\\Local\\Programs\\Python\\Python311\\Lib\\site-packages\\sklearn\\svm\\_classes.py:31: FutureWarning: The default value of `dual` will change from `True` to `'auto'` in 1.5. Set the value of `dual` explicitly to suppress the warning.\n",
            "  warnings.warn(\n"
          ]
        }
      ],
      "source": [
        "#Train SVM model\n",
        "##%%time\n",
        "# pipeline creation\n",
        "# 1. tfidVectorization\n",
        "# 2. linearSVC model\n",
        "\n",
        "from sklearn.feature_extraction.text import TfidfVectorizer\n",
        "from sklearn.svm import LinearSVC\n",
        "from sklearn.pipeline import Pipeline\n",
        "from sklearn.metrics import accuracy_score, precision_score, recall_score, confusion_matrix, classification_report,f1_score\n",
        "\n",
        "\n",
        "# Fit the pipeline to the data\n",
        "lin_svc_ds = Pipeline([('tfidf', TfidfVectorizer()),\n",
        "                      ('lin_svc', LinearSVC())])\n",
        "\n",
        "lin_svc_ds.fit(X_train, y_train)\n",
        "\n",
        "# predict on test dataset\n",
        "pred = lin_svc_ds.predict(X_test)\n",
        "\n",
        "print(\"MODEL: LINEAR SVC\")\n",
        "\n",
        "# print accuracy score\n",
        "print(\"accuarcy score: \", accuracy_score(y_test, pred))\n",
        "\n",
        "#print confusion matrix\n",
        "print(\"Confusion matrix: \", confusion_matrix(y_test, pred))\n",
        "\n",
        "#print classification report\n",
        "print(classification_report(y_test, pred))"
      ]
    },
    {
      "cell_type": "code",
      "execution_count": null,
      "metadata": {
        "id": "k0ln6vgtRfac",
        "outputId": "0df46be8-db43-4a3b-8dd7-d43beffcead0"
      },
      "outputs": [
        {
          "data": {
            "text/plain": [
              "array(['Neutral', 'Positive', 'Negative', 'Neutral', 'Neutral', 'Neutral',\n",
              "       'Neutral', 'Positive', 'Positive', 'Positive', 'Positive',\n",
              "       'Positive', 'Negative', 'Neutral', 'Positive', 'Positive',\n",
              "       'Positive', 'Positive', 'Positive', 'Positive', 'Positive',\n",
              "       'Positive', 'Positive', 'Positive', 'Positive', 'Neutral',\n",
              "       'Positive', 'Positive', 'Positive', 'Positive', 'Positive',\n",
              "       'Positive', 'Positive', 'Positive', 'Positive', 'Neutral',\n",
              "       'Positive', 'Positive', 'Positive', 'Positive', 'Negative',\n",
              "       'Positive', 'Neutral', 'Positive', 'Positive', 'Positive',\n",
              "       'Neutral', 'Positive', 'Positive', 'Neutral', 'Positive',\n",
              "       'Negative', 'Neutral', 'Neutral', 'Positive', 'Neutral',\n",
              "       'Positive', 'Neutral', 'Neutral', 'Positive', 'Neutral',\n",
              "       'Positive', 'Positive', 'Neutral', 'Positive', 'Neutral',\n",
              "       'Positive', 'Positive', 'Neutral', 'Positive', 'Positive',\n",
              "       'Positive', 'Positive', 'Neutral', 'Positive', 'Negative',\n",
              "       'Positive', 'Positive', 'Neutral', 'Positive'], dtype=object)"
            ]
          },
          "execution_count": 18,
          "metadata": {},
          "output_type": "execute_result"
        }
      ],
      "source": [
        "# Perforn the prediction on the test dataset\n",
        "pred = lin_svc_ds.predict(X_test)\n",
        "pred"
      ]
    },
    {
      "cell_type": "code",
      "execution_count": null,
      "metadata": {
        "id": "2EvTGe8NRfad"
      },
      "outputs": [],
      "source": [
        "# creating a dataframe of predicted results\n",
        "pred = pd.DataFrame(pred, columns=['predictions'])"
      ]
    },
    {
      "cell_type": "code",
      "execution_count": null,
      "metadata": {
        "id": "iXB5bOucRfad",
        "outputId": "8ad2abb1-cbd5-4569-cba8-a1ed8d53843d"
      },
      "outputs": [
        {
          "data": {
            "text/html": [
              "<div>\n",
              "<style scoped>\n",
              "    .dataframe tbody tr th:only-of-type {\n",
              "        vertical-align: middle;\n",
              "    }\n",
              "\n",
              "    .dataframe tbody tr th {\n",
              "        vertical-align: top;\n",
              "    }\n",
              "\n",
              "    .dataframe thead th {\n",
              "        text-align: right;\n",
              "    }\n",
              "</style>\n",
              "<table border=\"1\" class=\"dataframe\">\n",
              "  <thead>\n",
              "    <tr style=\"text-align: right;\">\n",
              "      <th></th>\n",
              "      <th>predictions</th>\n",
              "    </tr>\n",
              "  </thead>\n",
              "  <tbody>\n",
              "    <tr>\n",
              "      <th>0</th>\n",
              "      <td>Neutral</td>\n",
              "    </tr>\n",
              "    <tr>\n",
              "      <th>1</th>\n",
              "      <td>Positive</td>\n",
              "    </tr>\n",
              "    <tr>\n",
              "      <th>2</th>\n",
              "      <td>Negative</td>\n",
              "    </tr>\n",
              "    <tr>\n",
              "      <th>3</th>\n",
              "      <td>Neutral</td>\n",
              "    </tr>\n",
              "    <tr>\n",
              "      <th>4</th>\n",
              "      <td>Neutral</td>\n",
              "    </tr>\n",
              "    <tr>\n",
              "      <th>...</th>\n",
              "      <td>...</td>\n",
              "    </tr>\n",
              "    <tr>\n",
              "      <th>75</th>\n",
              "      <td>Negative</td>\n",
              "    </tr>\n",
              "    <tr>\n",
              "      <th>76</th>\n",
              "      <td>Positive</td>\n",
              "    </tr>\n",
              "    <tr>\n",
              "      <th>77</th>\n",
              "      <td>Positive</td>\n",
              "    </tr>\n",
              "    <tr>\n",
              "      <th>78</th>\n",
              "      <td>Neutral</td>\n",
              "    </tr>\n",
              "    <tr>\n",
              "      <th>79</th>\n",
              "      <td>Positive</td>\n",
              "    </tr>\n",
              "  </tbody>\n",
              "</table>\n",
              "<p>80 rows × 1 columns</p>\n",
              "</div>"
            ],
            "text/plain": [
              "   predictions\n",
              "0      Neutral\n",
              "1     Positive\n",
              "2     Negative\n",
              "3      Neutral\n",
              "4      Neutral\n",
              "..         ...\n",
              "75    Negative\n",
              "76    Positive\n",
              "77    Positive\n",
              "78     Neutral\n",
              "79    Positive\n",
              "\n",
              "[80 rows x 1 columns]"
            ]
          },
          "execution_count": 20,
          "metadata": {},
          "output_type": "execute_result"
        }
      ],
      "source": [
        "pred"
      ]
    },
    {
      "cell_type": "markdown",
      "metadata": {
        "id": "0YG9BhSoRfad"
      },
      "source": [
        "tikertape"
      ]
    },
    {
      "cell_type": "markdown",
      "metadata": {
        "id": "vGVY3fISRfaf"
      },
      "source": [
        "screnner"
      ]
    },
    {
      "cell_type": "markdown",
      "metadata": {
        "id": "Ya4N6uhWRfag"
      },
      "source": [
        "finance statements"
      ]
    },
    {
      "cell_type": "markdown",
      "metadata": {
        "id": "7veeoxtrRfag"
      },
      "source": [
        "BSC india NSC india use it for api"
      ]
    }
  ],
  "metadata": {
    "kernelspec": {
      "display_name": "Python 3",
      "language": "python",
      "name": "python3"
    },
    "language_info": {
      "codemirror_mode": {
        "name": "ipython",
        "version": 3
      },
      "file_extension": ".py",
      "mimetype": "text/x-python",
      "name": "python",
      "nbconvert_exporter": "python",
      "pygments_lexer": "ipython3",
      "version": "3.11.2"
    },
    "colab": {
      "provenance": []
    }
  },
  "nbformat": 4,
  "nbformat_minor": 0
}